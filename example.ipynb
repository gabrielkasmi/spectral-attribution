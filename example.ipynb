{
 "cells": [
  {
   "attachments": {},
   "cell_type": "markdown",
   "metadata": {},
   "source": [
    "# Wavelet Class activation map\n",
    "\n",
    "Use this notebook to implement the Wavelet class activation map (WCAM) on some examples"
   ]
  },
  {
   "cell_type": "code",
   "execution_count": null,
   "metadata": {},
   "outputs": [],
   "source": [
    "# Libraries\n",
    "\n",
    "import matplotlib.pyplot as plt\n",
    "from utils import helpers\n",
    "import torchvision\n",
    "import torch\n",
    "import numpy as np\n",
    "from spectral_sobol.torch_explainer import WaveletSobol"
   ]
  },
  {
   "cell_type": "code",
   "execution_count": null,
   "metadata": {},
   "outputs": [],
   "source": [
    "# set ups\n",
    "device = 'cuda'\n",
    "source = 'assets'\n",
    "batch_size = 128\n",
    "model = torchvision.models.resnet50(pretrained = True).to(device)\n",
    "\n",
    "# parameters for the explainer\n",
    "grid_size = 28\n",
    "nb_design = 8\n",
    "\n",
    "classes = { # dictionnary with the example images and labels\n",
    " 'fox.png': 278,\n",
    " 'snow_fox.png': 279,\n",
    " 'polar_bear.png': 296,\n",
    " 'leopard.png': 288,\n",
    " 'fox1.jpg': 277,\n",
    " 'fox2.jpg': 277,\n",
    " 'sea_turtle.jpg': 33,\n",
    " 'lynx.jpg': 287,\n",
    " 'cat.jpg': 281,\n",
    " 'otter.jpg': 360\n",
    "}\n",
    "\n",
    "# load the images\n",
    "images = [helpers.load_image(source, name) for name in classes.keys()]\n",
    "\n",
    "# convert them as a tensor and define the vector of labels\n",
    "x = torch.stack([torchvision.transforms.ToTensor()(im) for im in images])\n",
    "y = np.array([classes[name] for name in classes.keys()]).astype(np.uint8)\n",
    "\n",
    "# initialize the explainer object\n",
    "wavelet = WaveletSobol(model, grid_size = grid_size, nb_design = nb_design, batch_size = batch_size)"
   ]
  },
  {
   "attachments": {},
   "cell_type": "markdown",
   "metadata": {},
   "source": [
    "Now that we've loaded the images and the explainer and set up the data, we can compute the explanations"
   ]
  },
  {
   "cell_type": "code",
   "execution_count": null,
   "metadata": {},
   "outputs": [],
   "source": [
    "explanations = wavelet(x,y)"
   ]
  },
  {
   "attachments": {},
   "cell_type": "markdown",
   "metadata": {},
   "source": [
    "And that's it ! We can now visualize our explanations. `explanations` is a list that contains the WCAMs. The spatial WCAMs are stored as an additional attribute to the `WaveletSobol` instance. We can retrieve them by calling `wavelet.spatial_cam`."
   ]
  },
  {
   "cell_type": "code",
   "execution_count": null,
   "metadata": {},
   "outputs": [],
   "source": [
    "# retrieve the spatial_wcams : \n",
    "spatial_wcams = wavelet.spatial_cam\n",
    "\n",
    "# plot\n",
    "fig, ax = plt.subplots(2,3, figsize = (12,8))\n",
    "\n",
    "# setups\n",
    "size = 224\n",
    "levels = 3\n",
    "\n",
    "for i in range(3): # we plot only the three first examples\n",
    "    \n",
    "    # plot the image and the spatial wcam\n",
    "    ax[0,i].imshow(images[i])\n",
    "    ax[0,i].imshow(spatial_wcams[i], cmap = 'jet', alpha = 0.5)\n",
    "    ax[0,i].set_title('Image \\n Spatial WCAM')\n",
    "\n",
    "    # on the second row, plot the WCAM and add\n",
    "    # the lines for a better visualization\n",
    "    ax[1,i].imshow(explanations[i], cmap = \"jet\")\n",
    "    helpers.add_lines(size, levels, ax[1,i])\n",
    "    ax[1,i].set_title('WCAM')\n",
    "\n",
    "    # remove the ticks\n",
    "    ax[0,i].axis('off')\n",
    "    ax[1,i].axis('off')\n",
    "\n",
    "fig.tight_layout()\n",
    "plt.show()"
   ]
  },
  {
   "attachments": {},
   "cell_type": "markdown",
   "metadata": {},
   "source": [
    "Congratulations ! Now you know how to use the WCAM and can use it in your own projects."
   ]
  }
 ],
 "metadata": {
  "kernelspec": {
   "display_name": "acquisition",
   "language": "python",
   "name": "python3"
  },
  "language_info": {
   "codemirror_mode": {
    "name": "ipython",
    "version": 3
   },
   "file_extension": ".py",
   "mimetype": "text/x-python",
   "name": "python",
   "nbconvert_exporter": "python",
   "pygments_lexer": "ipython3",
   "version": "3.9.12"
  },
  "orig_nbformat": 4
 },
 "nbformat": 4,
 "nbformat_minor": 2
}
