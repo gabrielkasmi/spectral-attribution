{
 "cells": [
  {
   "attachments": {},
   "cell_type": "markdown",
   "metadata": {},
   "source": [
    "# Robustification effects\n",
    "\n",
    "In this notebook, we measure how the standard robustness enhancement techniques improve the robustness of the models. We also show that the properties highlighted for baseline models also holds for robust models. \n",
    "\n",
    "We consider three settings \n",
    "* ST (standard training) which has been studied in the first notebook\n",
    "* AT (adversarial training) we study how adversarial training affects the model reliance on frequencies\n",
    "* RT (robust training) we study how robust training affects the model reliance on frequencies\n",
    "\n",
    "Punchline: difference in degrees, not in nature. The remaining (yet less numerous) errors behave the same as for the ST model."
   ]
  },
  {
   "cell_type": "code",
   "execution_count": null,
   "metadata": {},
   "outputs": [],
   "source": [
    "# library imports"
   ]
  },
  {
   "cell_type": "code",
   "execution_count": null,
   "metadata": {},
   "outputs": [],
   "source": [
    "# set ups\n",
    "\n",
    "# model (and case)\n",
    "# model zoo features : \n",
    "#               - RT : augmix, sin, \n",
    "#               - AT : augmix, sin, \n",
    "\n",
    "models_dir = '../../models/'\n",
    "\n",
    "# data"
   ]
  },
  {
   "attachments": {},
   "cell_type": "markdown",
   "metadata": {},
   "source": [
    "## Frequency importance\n",
    "\n",
    "We leverage the FCAM to measure the average frequency importance over the selected batch of images. \n",
    "\n",
    "* Recovers existing results for a fraction of the computational cost."
   ]
  },
  {
   "cell_type": "code",
   "execution_count": null,
   "metadata": {},
   "outputs": [],
   "source": [
    "\n",
    "\n",
    "# data\n",
    "\n",
    "# set up"
   ]
  }
 ],
 "metadata": {
  "language_info": {
   "name": "python"
  },
  "orig_nbformat": 4
 },
 "nbformat": 4,
 "nbformat_minor": 2
}
