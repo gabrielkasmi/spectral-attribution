{
 "cells": [
  {
   "attachments": {},
   "cell_type": "markdown",
   "metadata": {},
   "source": [
    "# Understanding how distribution shifts affect image classification models\n",
    "\n",
    "This notebooks displays images computed from the script `spectral_profile.py`. We display WCAMs obtained across various training methods and model backbones to show that the sensitivity to distribution shifts can be explained by a shift in the important regions for the prediction, as highlighted by the WCAM. Existing attribution methods cannot provide such qualitative evidence while robustness analyses have only shown that robust methods are quantitatively less subject to distribution shifts, but did not explicited whether it was because the model behave qualitatively differently. \n",
    "\n",
    "In this work, we provide evidence that the attitude of deep learining models with respect to the scale decomposition of an image is the same across (1) model baselines and (2) training approaches. Differences in robustness between those methods are only quantitative. "
   ]
  },
  {
   "cell_type": "code",
   "execution_count": null,
   "metadata": {},
   "outputs": [],
   "source": [
    "import sys\n",
    "sys.path.append('../')\n",
    "\n",
    "# Libraries \n",
    "import os\n",
    "from utils import helpers\n",
    "import numpy as np"
   ]
  },
  {
   "attachments": {},
   "cell_type": "markdown",
   "metadata": {},
   "source": [
    "## Main plots"
   ]
  },
  {
   "cell_type": "code",
   "execution_count": null,
   "metadata": {},
   "outputs": [],
   "source": [
    "# data directory\n",
    "\n",
    "root = '../../data/spectral-attribution-outputs/'\n",
    "perturbations = ['corruptions', 'editing']\n",
    "\n",
    "# get the name of the images to be plotted for each perturbation\n",
    "images = {\n",
    "    perturbation : os.listdir(os.path.join(root, perturbation)) for perturbation in perturbations\n",
    "}"
   ]
  },
  {
   "attachments": {},
   "cell_type": "markdown",
   "metadata": {},
   "source": [
    "In the cell below you can generate plots on the model of those depicted on figure 4 in the main paper."
   ]
  },
  {
   "cell_type": "code",
   "execution_count": null,
   "metadata": {},
   "outputs": [],
   "source": [
    "save = None \n",
    "perturbation = \"corruptions\"\n",
    "image_name = images[perturbation][0]\n",
    "device = 'cuda:1'\n",
    "\n",
    "case = 'baseline'\n",
    "labels = ['source', 'corrupted, unaffected', \"corrupted, affected\"]\n",
    "\n",
    "np.random.seed(95)\n",
    "directory = os.path.join(os.path.join(root, perturbation), image_name)\n",
    "\n",
    "\n",
    "model = helpers.load_model(case, device)\n",
    "helpers.plot_stable_and_unstable_prediction(image_name, model, directory, perturbation, case, labels, save = save)"
   ]
  },
  {
   "cell_type": "code",
   "execution_count": null,
   "metadata": {},
   "outputs": [],
   "source": [
    "# np.random.seed(95)\n",
    "# \n",
    "# # Loop \n",
    "# \n",
    "# # plot of the baseline case \n",
    "# save = '../figs/figure-4/{}_{}_{}.pdf'\n",
    "# perturbation = \"corruptions\"\n",
    "# device = 'cuda:1'\n",
    "# labels = ['source', 'corrupted, unaffected', \"corrupted, affected\"]\n",
    "# \n",
    "# \n",
    "# cases = ['sin']#, 'augmix', 'pixmix', \"adv\", \"adv_free\", 'fast_adv', \"sin\"]\n",
    "# \n",
    "# \n",
    "# for case in cases:\n",
    "#     print('Case ............. {}'.format(case))\n",
    "#     \n",
    "#     model = helpers.load_model(case, device)\n",
    "#     for i, image_name in enumerate(images[perturbation]):\n",
    "#         directory = os.path.join(os.path.join(root, perturbation), image_name)\n",
    "#         helpers.plot_stable_and_unstable_prediction(image_name, model, directory, perturbation, case, labels, save = save.format(perturbation, case, i))"
   ]
  },
  {
   "attachments": {},
   "cell_type": "markdown",
   "metadata": {},
   "source": [
    "In the cell below you can reproduce figures on the model of those depicted in figure 5 of the paper."
   ]
  },
  {
   "cell_type": "code",
   "execution_count": null,
   "metadata": {},
   "outputs": [],
   "source": [
    "# plot of the adversarial and SIN cases\n",
    "save = '../figs/figure-5/robust_training_corruptions_{}.pdf'\n",
    "cases = ['baseline', 'sin', 'augmix', \"pixmix\", \"adv\", \"adv_free\"]\n",
    "\n",
    "np.random.seed(95)\n",
    "\n",
    "for i, image_name in enumerate(images[perturbation]):\n",
    "    directory = os.path.join(os.path.join(root, perturbation), image_name)\n",
    "    helpers.plot_wcams(directory, cases, save = save.format(i))"
   ]
  },
  {
   "cell_type": "code",
   "execution_count": null,
   "metadata": {},
   "outputs": [],
   "source": []
  }
 ],
 "metadata": {
  "kernelspec": {
   "display_name": "acquisition",
   "language": "python",
   "name": "python3"
  },
  "language_info": {
   "codemirror_mode": {
    "name": "ipython",
    "version": 3
   },
   "file_extension": ".py",
   "mimetype": "text/x-python",
   "name": "python",
   "nbconvert_exporter": "python",
   "pygments_lexer": "ipython3",
   "version": "3.9.12"
  },
  "orig_nbformat": 4
 },
 "nbformat": 4,
 "nbformat_minor": 2
}
