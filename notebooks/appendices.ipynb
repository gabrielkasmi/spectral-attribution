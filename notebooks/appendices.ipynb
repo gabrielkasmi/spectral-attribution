{
 "cells": [
  {
   "attachments": {},
   "cell_type": "markdown",
   "metadata": {},
   "source": [
    "# Appendices\n",
    "\n",
    "Source code to replicate key results from the appendix"
   ]
  },
  {
   "cell_type": "code",
   "execution_count": 4,
   "metadata": {},
   "outputs": [],
   "source": [
    "# Libraries and imports\n",
    "import sys\n",
    "sys.path.append('../')\n",
    "\n",
    "import os\n",
    "import numpy as np\n",
    "import matplotlib.pyplot as plt\n",
    "from utils import helpers\n",
    "import torchvision\n",
    "from PIL import Image\n",
    "from torchvision.models import resnet50\n",
    "import timeit\n",
    "import torch\n",
    "from spectral_sobol.torch_explainer import WaveletSobol\n"
   ]
  },
  {
   "attachments": {},
   "cell_type": "markdown",
   "metadata": {},
   "source": [
    "## Number of designs\n",
    "\n",
    "The number of designs corresponds to the number of deviations around the mean sequence. It is used to compute the variance of the Sobol indices. However, a high number of designs leads to an increased computational burden. \n",
    "\n",
    "We study the effect of the number of designs on the estimation of the Sobol indices"
   ]
  },
  {
   "cell_type": "code",
   "execution_count": 7,
   "metadata": {},
   "outputs": [
    {
     "name": "stdout",
     "output_type": "stream",
     "text": [
      "Testing with i = 0\n"
     ]
    },
    {
     "ename": "RuntimeError",
     "evalue": "CUDA out of memory. Tried to allocate 196.00 MiB (GPU 1; 11.90 GiB total capacity; 6.06 GiB already allocated; 11.62 MiB free; 6.07 GiB reserved in total by PyTorch) If reserved memory is >> allocated memory try setting max_split_size_mb to avoid fragmentation.  See documentation for Memory Management and PYTORCH_CUDA_ALLOC_CONF",
     "output_type": "error",
     "traceback": [
      "\u001b[0;31m---------------------------------------------------------------------------\u001b[0m",
      "\u001b[0;31mRuntimeError\u001b[0m                              Traceback (most recent call last)",
      "\u001b[1;32m/data/GabrielKasmi/spectral-attribution/notebooks/appendices.ipynb Cell 4\u001b[0m in \u001b[0;36m<cell line: 45>\u001b[0;34m()\u001b[0m\n\u001b[1;32m     <a href='vscode-notebook-cell://ssh-remote%2B10.135.73.152/data/GabrielKasmi/spectral-attribution/notebooks/appendices.ipynb#W2sdnNjb2RlLXJlbW90ZQ%3D%3D?line=47'>48</a>\u001b[0m wavelet \u001b[39m=\u001b[39m WaveletSobol(model, grid_size \u001b[39m=\u001b[39m \u001b[39m28\u001b[39m, nb_design \u001b[39m=\u001b[39m \u001b[39m2\u001b[39m \u001b[39m*\u001b[39m\u001b[39m*\u001b[39m (i\u001b[39m+\u001b[39m\u001b[39m1\u001b[39m), batch_size \u001b[39m=\u001b[39m \u001b[39m64\u001b[39m)\n\u001b[1;32m     <a href='vscode-notebook-cell://ssh-remote%2B10.135.73.152/data/GabrielKasmi/spectral-attribution/notebooks/appendices.ipynb#W2sdnNjb2RlLXJlbW90ZQ%3D%3D?line=49'>50</a>\u001b[0m start \u001b[39m=\u001b[39m timeit\u001b[39m.\u001b[39mdefault_timer()\n\u001b[0;32m---> <a href='vscode-notebook-cell://ssh-remote%2B10.135.73.152/data/GabrielKasmi/spectral-attribution/notebooks/appendices.ipynb#W2sdnNjb2RlLXJlbW90ZQ%3D%3D?line=50'>51</a>\u001b[0m variants\u001b[39m.\u001b[39mappend(wavelet(x,y))\n\u001b[1;32m     <a href='vscode-notebook-cell://ssh-remote%2B10.135.73.152/data/GabrielKasmi/spectral-attribution/notebooks/appendices.ipynb#W2sdnNjb2RlLXJlbW90ZQ%3D%3D?line=51'>52</a>\u001b[0m stop \u001b[39m=\u001b[39m timeit\u001b[39m.\u001b[39mdefault_timer()\n\u001b[1;32m     <a href='vscode-notebook-cell://ssh-remote%2B10.135.73.152/data/GabrielKasmi/spectral-attribution/notebooks/appendices.ipynb#W2sdnNjb2RlLXJlbW90ZQ%3D%3D?line=53'>54</a>\u001b[0m times\u001b[39m.\u001b[39mappend(stop \u001b[39m-\u001b[39m start)\n",
      "File \u001b[0;32m/data/GabrielKasmi/spectral-attribution/notebooks/../spectral_sobol/torch_explainer.py:396\u001b[0m, in \u001b[0;36mWaveletSobol.__call__\u001b[0;34m(self, inputs, labels)\u001b[0m\n\u001b[1;32m    392\u001b[0m batch_masks \u001b[39m=\u001b[39m reshaped_masks[start_index:end_index]\n\u001b[1;32m    393\u001b[0m \u001b[39m#resized_batch = duplicate_masks(batch_masks, self.grid_size, self.levels, input_shape)\u001b[39;00m\n\u001b[1;32m    394\u001b[0m \n\u001b[1;32m    395\u001b[0m \u001b[39m# apply perturbation to the input and forward\u001b[39;00m\n\u001b[0;32m--> 396\u001b[0m batch_y \u001b[39m=\u001b[39m WaveletSobol\u001b[39m.\u001b[39;49m_batch_forward(\u001b[39mself\u001b[39;49m\u001b[39m.\u001b[39;49mmodel, wavelet_transform, batch_masks,\n\u001b[1;32m    397\u001b[0m                                                 perturbator, input_shape)\n\u001b[1;32m    399\u001b[0m \u001b[39m# store the results\u001b[39;00m\n\u001b[1;32m    400\u001b[0m batch_y \u001b[39m=\u001b[39m batch_y[:, label]\u001b[39m.\u001b[39mcpu()\u001b[39m.\u001b[39mdetach()\u001b[39m.\u001b[39mnumpy()\n",
      "File \u001b[0;32m/data/GabrielKasmi/spectral-attribution/notebooks/../spectral_sobol/torch_explainer.py:462\u001b[0m, in \u001b[0;36mWaveletSobol._batch_forward\u001b[0;34m(model, wavelet_transform, masks, perturbator, input_shape)\u001b[0m\n\u001b[1;32m    460\u001b[0m \u001b[39m# transform the perturbated input as a tensor and send them to the correct device\u001b[39;00m\n\u001b[1;32m    461\u001b[0m perturbed_images \u001b[39m=\u001b[39m torch\u001b[39m.\u001b[39mstack([transforms(im) \u001b[39mfor\u001b[39;00m im \u001b[39min\u001b[39;00m perturbated_inputs])\u001b[39m.\u001b[39mto(device)\n\u001b[0;32m--> 462\u001b[0m outputs \u001b[39m=\u001b[39m model(perturbed_images)\n\u001b[1;32m    464\u001b[0m \u001b[39mreturn\u001b[39;00m outputs\n",
      "File \u001b[0;32m/data/GabrielKasmi/miniconda3/envs/acquisition/lib/python3.9/site-packages/torch/nn/modules/module.py:1110\u001b[0m, in \u001b[0;36mModule._call_impl\u001b[0;34m(self, *input, **kwargs)\u001b[0m\n\u001b[1;32m   1106\u001b[0m \u001b[39m# If we don't have any hooks, we want to skip the rest of the logic in\u001b[39;00m\n\u001b[1;32m   1107\u001b[0m \u001b[39m# this function, and just call forward.\u001b[39;00m\n\u001b[1;32m   1108\u001b[0m \u001b[39mif\u001b[39;00m \u001b[39mnot\u001b[39;00m (\u001b[39mself\u001b[39m\u001b[39m.\u001b[39m_backward_hooks \u001b[39mor\u001b[39;00m \u001b[39mself\u001b[39m\u001b[39m.\u001b[39m_forward_hooks \u001b[39mor\u001b[39;00m \u001b[39mself\u001b[39m\u001b[39m.\u001b[39m_forward_pre_hooks \u001b[39mor\u001b[39;00m _global_backward_hooks\n\u001b[1;32m   1109\u001b[0m         \u001b[39mor\u001b[39;00m _global_forward_hooks \u001b[39mor\u001b[39;00m _global_forward_pre_hooks):\n\u001b[0;32m-> 1110\u001b[0m     \u001b[39mreturn\u001b[39;00m forward_call(\u001b[39m*\u001b[39;49m\u001b[39minput\u001b[39;49m, \u001b[39m*\u001b[39;49m\u001b[39m*\u001b[39;49mkwargs)\n\u001b[1;32m   1111\u001b[0m \u001b[39m# Do not call functions when jit is used\u001b[39;00m\n\u001b[1;32m   1112\u001b[0m full_backward_hooks, non_full_backward_hooks \u001b[39m=\u001b[39m [], []\n",
      "File \u001b[0;32m/data/GabrielKasmi/miniconda3/envs/acquisition/lib/python3.9/site-packages/torchvision/models/resnet.py:283\u001b[0m, in \u001b[0;36mResNet.forward\u001b[0;34m(self, x)\u001b[0m\n\u001b[1;32m    282\u001b[0m \u001b[39mdef\u001b[39;00m \u001b[39mforward\u001b[39m(\u001b[39mself\u001b[39m, x: Tensor) \u001b[39m-\u001b[39m\u001b[39m>\u001b[39m Tensor:\n\u001b[0;32m--> 283\u001b[0m     \u001b[39mreturn\u001b[39;00m \u001b[39mself\u001b[39;49m\u001b[39m.\u001b[39;49m_forward_impl(x)\n",
      "File \u001b[0;32m/data/GabrielKasmi/miniconda3/envs/acquisition/lib/python3.9/site-packages/torchvision/models/resnet.py:266\u001b[0m, in \u001b[0;36mResNet._forward_impl\u001b[0;34m(self, x)\u001b[0m\n\u001b[1;32m    264\u001b[0m \u001b[39mdef\u001b[39;00m \u001b[39m_forward_impl\u001b[39m(\u001b[39mself\u001b[39m, x: Tensor) \u001b[39m-\u001b[39m\u001b[39m>\u001b[39m Tensor:\n\u001b[1;32m    265\u001b[0m     \u001b[39m# See note [TorchScript super()]\u001b[39;00m\n\u001b[0;32m--> 266\u001b[0m     x \u001b[39m=\u001b[39m \u001b[39mself\u001b[39;49m\u001b[39m.\u001b[39;49mconv1(x)\n\u001b[1;32m    267\u001b[0m     x \u001b[39m=\u001b[39m \u001b[39mself\u001b[39m\u001b[39m.\u001b[39mbn1(x)\n\u001b[1;32m    268\u001b[0m     x \u001b[39m=\u001b[39m \u001b[39mself\u001b[39m\u001b[39m.\u001b[39mrelu(x)\n",
      "File \u001b[0;32m/data/GabrielKasmi/miniconda3/envs/acquisition/lib/python3.9/site-packages/torch/nn/modules/module.py:1110\u001b[0m, in \u001b[0;36mModule._call_impl\u001b[0;34m(self, *input, **kwargs)\u001b[0m\n\u001b[1;32m   1106\u001b[0m \u001b[39m# If we don't have any hooks, we want to skip the rest of the logic in\u001b[39;00m\n\u001b[1;32m   1107\u001b[0m \u001b[39m# this function, and just call forward.\u001b[39;00m\n\u001b[1;32m   1108\u001b[0m \u001b[39mif\u001b[39;00m \u001b[39mnot\u001b[39;00m (\u001b[39mself\u001b[39m\u001b[39m.\u001b[39m_backward_hooks \u001b[39mor\u001b[39;00m \u001b[39mself\u001b[39m\u001b[39m.\u001b[39m_forward_hooks \u001b[39mor\u001b[39;00m \u001b[39mself\u001b[39m\u001b[39m.\u001b[39m_forward_pre_hooks \u001b[39mor\u001b[39;00m _global_backward_hooks\n\u001b[1;32m   1109\u001b[0m         \u001b[39mor\u001b[39;00m _global_forward_hooks \u001b[39mor\u001b[39;00m _global_forward_pre_hooks):\n\u001b[0;32m-> 1110\u001b[0m     \u001b[39mreturn\u001b[39;00m forward_call(\u001b[39m*\u001b[39;49m\u001b[39minput\u001b[39;49m, \u001b[39m*\u001b[39;49m\u001b[39m*\u001b[39;49mkwargs)\n\u001b[1;32m   1111\u001b[0m \u001b[39m# Do not call functions when jit is used\u001b[39;00m\n\u001b[1;32m   1112\u001b[0m full_backward_hooks, non_full_backward_hooks \u001b[39m=\u001b[39m [], []\n",
      "File \u001b[0;32m/data/GabrielKasmi/miniconda3/envs/acquisition/lib/python3.9/site-packages/torch/nn/modules/conv.py:447\u001b[0m, in \u001b[0;36mConv2d.forward\u001b[0;34m(self, input)\u001b[0m\n\u001b[1;32m    446\u001b[0m \u001b[39mdef\u001b[39;00m \u001b[39mforward\u001b[39m(\u001b[39mself\u001b[39m, \u001b[39minput\u001b[39m: Tensor) \u001b[39m-\u001b[39m\u001b[39m>\u001b[39m Tensor:\n\u001b[0;32m--> 447\u001b[0m     \u001b[39mreturn\u001b[39;00m \u001b[39mself\u001b[39;49m\u001b[39m.\u001b[39;49m_conv_forward(\u001b[39minput\u001b[39;49m, \u001b[39mself\u001b[39;49m\u001b[39m.\u001b[39;49mweight, \u001b[39mself\u001b[39;49m\u001b[39m.\u001b[39;49mbias)\n",
      "File \u001b[0;32m/data/GabrielKasmi/miniconda3/envs/acquisition/lib/python3.9/site-packages/torch/nn/modules/conv.py:443\u001b[0m, in \u001b[0;36mConv2d._conv_forward\u001b[0;34m(self, input, weight, bias)\u001b[0m\n\u001b[1;32m    439\u001b[0m \u001b[39mif\u001b[39;00m \u001b[39mself\u001b[39m\u001b[39m.\u001b[39mpadding_mode \u001b[39m!=\u001b[39m \u001b[39m'\u001b[39m\u001b[39mzeros\u001b[39m\u001b[39m'\u001b[39m:\n\u001b[1;32m    440\u001b[0m     \u001b[39mreturn\u001b[39;00m F\u001b[39m.\u001b[39mconv2d(F\u001b[39m.\u001b[39mpad(\u001b[39minput\u001b[39m, \u001b[39mself\u001b[39m\u001b[39m.\u001b[39m_reversed_padding_repeated_twice, mode\u001b[39m=\u001b[39m\u001b[39mself\u001b[39m\u001b[39m.\u001b[39mpadding_mode),\n\u001b[1;32m    441\u001b[0m                     weight, bias, \u001b[39mself\u001b[39m\u001b[39m.\u001b[39mstride,\n\u001b[1;32m    442\u001b[0m                     _pair(\u001b[39m0\u001b[39m), \u001b[39mself\u001b[39m\u001b[39m.\u001b[39mdilation, \u001b[39mself\u001b[39m\u001b[39m.\u001b[39mgroups)\n\u001b[0;32m--> 443\u001b[0m \u001b[39mreturn\u001b[39;00m F\u001b[39m.\u001b[39;49mconv2d(\u001b[39minput\u001b[39;49m, weight, bias, \u001b[39mself\u001b[39;49m\u001b[39m.\u001b[39;49mstride,\n\u001b[1;32m    444\u001b[0m                 \u001b[39mself\u001b[39;49m\u001b[39m.\u001b[39;49mpadding, \u001b[39mself\u001b[39;49m\u001b[39m.\u001b[39;49mdilation, \u001b[39mself\u001b[39;49m\u001b[39m.\u001b[39;49mgroups)\n",
      "\u001b[0;31mRuntimeError\u001b[0m: CUDA out of memory. Tried to allocate 196.00 MiB (GPU 1; 11.90 GiB total capacity; 6.06 GiB already allocated; 11.62 MiB free; 6.07 GiB reserved in total by PyTorch) If reserved memory is >> allocated memory try setting max_split_size_mb to avoid fragmentation.  See documentation for Memory Management and PYTORCH_CUDA_ALLOC_CONF"
     ]
    }
   ],
   "source": [
    "# Set up \n",
    "\n",
    "device = 'cuda:1'\n",
    "model = resnet50(pretrained = True).to(device)\n",
    "\n",
    "classes = {\n",
    " 'fox.png': 278,\n",
    " 'snow_fox.png': 279,\n",
    " 'polar_bear.png': 296,\n",
    " 'leopard.png': 288,\n",
    " 'fox1.jpg': 277,\n",
    " 'fox2.jpg': 277,\n",
    " 'sea_turtle.jpg': 33,\n",
    " 'lynx.jpg': 287,\n",
    " 'cat.jpg': 281,\n",
    " 'otter.jpg': 360\n",
    "}\n",
    "\n",
    "image_names = list(classes.keys())\n",
    "\n",
    "images = [Image.open('../assets/{}'.format(img_name)) for img_name in image_names]\n",
    "\n",
    "# transforms\n",
    "normalize = torchvision.transforms.Normalize(mean=[0.485, 0.456, 0.406],\n",
    "                                 std=[0.229, 0.224, 0.225])\n",
    "\n",
    "preprocessing = torchvision.transforms.Compose([\n",
    "    torchvision.transforms.Resize(256),\n",
    "    torchvision.transforms.CenterCrop(224),\n",
    "    torchvision.transforms.ToTensor(),\n",
    "    normalize,\n",
    "])\n",
    " \n",
    "x = torch.stack(\n",
    "    [preprocessing(img) for img in images]\n",
    ").to(device)\n",
    "\n",
    "y = np.array([classes[img_name] for img_name in image_names])\n",
    "\n",
    "# loop with a varying number of designs\n",
    "\n",
    "variants = []\n",
    "times = []\n",
    "\n",
    "for i in range(5):\n",
    "\n",
    "    print('Testing with i = {}'.format(i))\n",
    "    wavelet = WaveletSobol(model, grid_size = 28, nb_design = 2 ** (i+1), batch_size = 128)\n",
    "\n",
    "    start = timeit.default_timer()\n",
    "    variants.append(wavelet(x,y))\n",
    "    stop = timeit.default_timer()\n",
    "\n",
    "    times.append(stop - start)"
   ]
  },
  {
   "cell_type": "code",
   "execution_count": null,
   "metadata": {},
   "outputs": [],
   "source": [
    "# plots\n",
    "\n",
    "size = 224 # input size\n",
    "levels = 3 # number of levels in the wavelet decomposition\n",
    "\n",
    "n_rows, n_cols = len(images), len(variants)\n",
    "\n",
    "fig, ax = plt.subplots(n_rows, n_cols, figsize = (4 * n_rows, 4 * n_cols))\n",
    "\n",
    "for j in range(n_cols):\n",
    "\n",
    "    variant = variants[i] # retrieve the list of wcams\n",
    "    \n",
    "    for k in range(n_rows):\n",
    "        \n",
    "        ax[k,j].set_title('Nb design : {}'.format(2 ** (j+1)))\n",
    "        ax[k,j].imshow(variant[k])\n",
    "        helpers.add_lines(size, levels, ax[k,j])\n",
    "\n",
    "fig.tight_layout()\n",
    "plt.axis('off')\n",
    "\n",
    "\n",
    "plt.savefig('../figs/nb_design.pdf')\n",
    "plt.show()\n",
    "\n",
    "\n"
   ]
  },
  {
   "attachments": {},
   "cell_type": "markdown",
   "metadata": {},
   "source": [
    "## Sampler and estimators\n",
    "\n",
    "We now consider different samplers and estimators than the Jansen estimator and the ScipySobolSequence. See the notebook `samplers-and-estimators.ipynb` for the computations."
   ]
  },
  {
   "cell_type": "markdown",
   "metadata": {},
   "source": []
  }
 ],
 "metadata": {
  "kernelspec": {
   "display_name": "acquisition",
   "language": "python",
   "name": "python3"
  },
  "language_info": {
   "codemirror_mode": {
    "name": "ipython",
    "version": 3
   },
   "file_extension": ".py",
   "mimetype": "text/x-python",
   "name": "python",
   "nbconvert_exporter": "python",
   "pygments_lexer": "ipython3",
   "version": "3.9.12"
  },
  "orig_nbformat": 4
 },
 "nbformat": 4,
 "nbformat_minor": 2
}
